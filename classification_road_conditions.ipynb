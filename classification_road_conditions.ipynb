{
 "cells": [
  {
   "cell_type": "markdown",
   "metadata": {},
   "source": [
    "# Classification: Good vs. Bad Road Conditions"
   ]
  },
  {
   "cell_type": "markdown",
   "metadata": {},
   "source": [
    "Description: Classifying good and bad road conditions using accelerometer and gyroscope data without pothole labels."
   ]
  },
  {
   "cell_type": "code",
   "execution_count": 164,
   "metadata": {
    "collapsed": true
   },
   "outputs": [],
   "source": [
    "import numpy as np\n",
    "import pandas as pd\n",
    "import matplotlib\n",
    "%matplotlib inline\n",
    "import matplotlib.pyplot as plt\n",
    "import seaborn\n",
    "from sklearn import svm\n",
    "from sklearn.model_selection import cross_val_score\n",
    "from sklearn.model_selection import train_test_split\n",
    "from sklearn.metrics import confusion_matrix, classification_report"
   ]
  },
  {
   "cell_type": "markdown",
   "metadata": {},
   "source": [
    "### Load and combine all trip data files"
   ]
  },
  {
   "cell_type": "code",
   "execution_count": 165,
   "metadata": {
    "collapsed": false
   },
   "outputs": [
    {
     "name": "stdout",
     "output_type": "stream",
     "text": [
      "(373, 27)\n",
      "(86, 27)\n"
     ]
    },
    {
     "data": {
      "text/html": [
       "<div>\n",
       "<table border=\"1\" class=\"dataframe\">\n",
       "  <thead>\n",
       "    <tr style=\"text-align: right;\">\n",
       "      <th></th>\n",
       "      <th>meanSpeed</th>\n",
       "      <th>sdSpeed</th>\n",
       "      <th>maxAccelX</th>\n",
       "      <th>maxAccelY</th>\n",
       "      <th>maxAccelZ</th>\n",
       "      <th>maxGyroX</th>\n",
       "      <th>maxGyroY</th>\n",
       "      <th>maxGyroZ</th>\n",
       "      <th>minAccelX</th>\n",
       "      <th>minAccelY</th>\n",
       "      <th>...</th>\n",
       "      <th>meanGyroX</th>\n",
       "      <th>meanGyroY</th>\n",
       "      <th>meanGyroZ</th>\n",
       "      <th>sdAccelX</th>\n",
       "      <th>sdAccelY</th>\n",
       "      <th>sdAccelZ</th>\n",
       "      <th>sdGyroX</th>\n",
       "      <th>sdGyroY</th>\n",
       "      <th>sdGyroZ</th>\n",
       "      <th>condition</th>\n",
       "    </tr>\n",
       "  </thead>\n",
       "  <tbody>\n",
       "    <tr>\n",
       "      <th>0</th>\n",
       "      <td>2.786</td>\n",
       "      <td>1.254071</td>\n",
       "      <td>0.180893</td>\n",
       "      <td>-0.852554</td>\n",
       "      <td>0.570755</td>\n",
       "      <td>0.018191</td>\n",
       "      <td>0.055567</td>\n",
       "      <td>0.075220</td>\n",
       "      <td>-0.196838</td>\n",
       "      <td>-0.962219</td>\n",
       "      <td>...</td>\n",
       "      <td>-0.014586</td>\n",
       "      <td>-0.049366</td>\n",
       "      <td>0.011600</td>\n",
       "      <td>0.107026</td>\n",
       "      <td>0.031894</td>\n",
       "      <td>0.069673</td>\n",
       "      <td>0.026626</td>\n",
       "      <td>0.063336</td>\n",
       "      <td>0.039347</td>\n",
       "      <td>1.0</td>\n",
       "    </tr>\n",
       "    <tr>\n",
       "      <th>1</th>\n",
       "      <td>13.550</td>\n",
       "      <td>0.432178</td>\n",
       "      <td>0.080521</td>\n",
       "      <td>-0.834000</td>\n",
       "      <td>0.357269</td>\n",
       "      <td>0.005312</td>\n",
       "      <td>0.147995</td>\n",
       "      <td>0.196600</td>\n",
       "      <td>-0.125839</td>\n",
       "      <td>-1.069000</td>\n",
       "      <td>...</td>\n",
       "      <td>-0.043707</td>\n",
       "      <td>-0.054707</td>\n",
       "      <td>0.019952</td>\n",
       "      <td>0.062265</td>\n",
       "      <td>0.077701</td>\n",
       "      <td>0.045871</td>\n",
       "      <td>0.055614</td>\n",
       "      <td>0.133870</td>\n",
       "      <td>0.076479</td>\n",
       "      <td>1.0</td>\n",
       "    </tr>\n",
       "    <tr>\n",
       "      <th>2</th>\n",
       "      <td>13.500</td>\n",
       "      <td>0.316228</td>\n",
       "      <td>0.146255</td>\n",
       "      <td>-0.890030</td>\n",
       "      <td>0.209290</td>\n",
       "      <td>0.012635</td>\n",
       "      <td>0.037533</td>\n",
       "      <td>0.094294</td>\n",
       "      <td>-0.035217</td>\n",
       "      <td>-1.084564</td>\n",
       "      <td>...</td>\n",
       "      <td>-0.052779</td>\n",
       "      <td>-0.018908</td>\n",
       "      <td>0.009957</td>\n",
       "      <td>0.051928</td>\n",
       "      <td>0.062375</td>\n",
       "      <td>0.070751</td>\n",
       "      <td>0.070474</td>\n",
       "      <td>0.064439</td>\n",
       "      <td>0.043749</td>\n",
       "      <td>1.0</td>\n",
       "    </tr>\n",
       "    <tr>\n",
       "      <th>3</th>\n",
       "      <td>6.475</td>\n",
       "      <td>1.059363</td>\n",
       "      <td>0.020554</td>\n",
       "      <td>-0.971405</td>\n",
       "      <td>0.084045</td>\n",
       "      <td>0.022691</td>\n",
       "      <td>-0.028601</td>\n",
       "      <td>0.092236</td>\n",
       "      <td>-0.195404</td>\n",
       "      <td>-1.027863</td>\n",
       "      <td>...</td>\n",
       "      <td>-0.016482</td>\n",
       "      <td>-0.246347</td>\n",
       "      <td>0.057936</td>\n",
       "      <td>0.061621</td>\n",
       "      <td>0.016343</td>\n",
       "      <td>0.043332</td>\n",
       "      <td>0.020756</td>\n",
       "      <td>0.111809</td>\n",
       "      <td>0.030293</td>\n",
       "      <td>1.0</td>\n",
       "    </tr>\n",
       "    <tr>\n",
       "      <th>4</th>\n",
       "      <td>4.230</td>\n",
       "      <td>0.569210</td>\n",
       "      <td>0.654892</td>\n",
       "      <td>-0.796127</td>\n",
       "      <td>0.741577</td>\n",
       "      <td>0.250886</td>\n",
       "      <td>0.321798</td>\n",
       "      <td>0.318117</td>\n",
       "      <td>-0.332016</td>\n",
       "      <td>-1.308212</td>\n",
       "      <td>...</td>\n",
       "      <td>0.017377</td>\n",
       "      <td>-0.015430</td>\n",
       "      <td>0.005762</td>\n",
       "      <td>0.269076</td>\n",
       "      <td>0.162553</td>\n",
       "      <td>0.225503</td>\n",
       "      <td>0.145116</td>\n",
       "      <td>0.240460</td>\n",
       "      <td>0.170115</td>\n",
       "      <td>1.0</td>\n",
       "    </tr>\n",
       "  </tbody>\n",
       "</table>\n",
       "<p>5 rows × 27 columns</p>\n",
       "</div>"
      ],
      "text/plain": [
       "   meanSpeed   sdSpeed  maxAccelX  maxAccelY  maxAccelZ  maxGyroX  maxGyroY  \\\n",
       "0      2.786  1.254071   0.180893  -0.852554   0.570755  0.018191  0.055567   \n",
       "1     13.550  0.432178   0.080521  -0.834000   0.357269  0.005312  0.147995   \n",
       "2     13.500  0.316228   0.146255  -0.890030   0.209290  0.012635  0.037533   \n",
       "3      6.475  1.059363   0.020554  -0.971405   0.084045  0.022691 -0.028601   \n",
       "4      4.230  0.569210   0.654892  -0.796127   0.741577  0.250886  0.321798   \n",
       "\n",
       "   maxGyroZ  minAccelX  minAccelY    ...      meanGyroX  meanGyroY  meanGyroZ  \\\n",
       "0  0.075220  -0.196838  -0.962219    ...      -0.014586  -0.049366   0.011600   \n",
       "1  0.196600  -0.125839  -1.069000    ...      -0.043707  -0.054707   0.019952   \n",
       "2  0.094294  -0.035217  -1.084564    ...      -0.052779  -0.018908   0.009957   \n",
       "3  0.092236  -0.195404  -1.027863    ...      -0.016482  -0.246347   0.057936   \n",
       "4  0.318117  -0.332016  -1.308212    ...       0.017377  -0.015430   0.005762   \n",
       "\n",
       "   sdAccelX  sdAccelY  sdAccelZ   sdGyroX   sdGyroY   sdGyroZ  condition  \n",
       "0  0.107026  0.031894  0.069673  0.026626  0.063336  0.039347        1.0  \n",
       "1  0.062265  0.077701  0.045871  0.055614  0.133870  0.076479        1.0  \n",
       "2  0.051928  0.062375  0.070751  0.070474  0.064439  0.043749        1.0  \n",
       "3  0.061621  0.016343  0.043332  0.020756  0.111809  0.030293        1.0  \n",
       "4  0.269076  0.162553  0.225503  0.145116  0.240460  0.170115        1.0  \n",
       "\n",
       "[5 rows x 27 columns]"
      ]
     },
     "execution_count": 165,
     "metadata": {},
     "output_type": "execute_result"
    }
   ],
   "source": [
    "numGoodTrips = 10\n",
    "numBadTrips = 5\n",
    "dataDir = 'data/Good_Road_Bad_Road/'\n",
    "goodRoadDF = pd.DataFrame()\n",
    "badRoadDF = pd.DataFrame()\n",
    "\n",
    "# Put all good road data into goodRoadDF\n",
    "for goodRoadIndex in xrange(1, numGoodTrips+1):\n",
    "    goodRoadFilePath = dataDir + 'good%s_intervals.csv' % goodRoadIndex\n",
    "    tripDF = pd.read_csv(goodRoadFilePath)\n",
    "    goodRoadDF = goodRoadDF.append(tripDF)\n",
    "    \n",
    "# Put all bad road data into badRoadDF\n",
    "for badRoadIndex in xrange(1, numBadTrips+1):\n",
    "    badRoadFilePath = dataDir + 'bad%s_intervals.csv' % badRoadIndex\n",
    "    tripDF = pd.read_csv(badRoadFilePath)\n",
    "    badRoadDF = badRoadDF.append(tripDF)\n",
    "\n",
    "# Some data cleaning\n",
    "goodRoadDF.drop('Unnamed: 0', axis=1, inplace=True)\n",
    "badRoadDF.drop('Unnamed: 0', axis=1, inplace=True)\n",
    "goodRoadDF.dropna(inplace=True)\n",
    "badRoadDF.dropna(inplace=True)\n",
    "goodRoadDF.reset_index(drop=True, inplace=True)\n",
    "badRoadDF.reset_index(drop=True, inplace=True)\n",
    "\n",
    "print goodRoadDF.shape\n",
    "print badRoadDF.shape\n",
    "badRoadDF.head()"
   ]
  },
  {
   "cell_type": "markdown",
   "metadata": {},
   "source": [
    "### Setup Features and Labels"
   ]
  },
  {
   "cell_type": "code",
   "execution_count": 166,
   "metadata": {
    "collapsed": false
   },
   "outputs": [],
   "source": [
    "a = goodRoadDF['condition']\n",
    "b = badRoadDF['condition']\n",
    "y = np.append(a,b)\n",
    "frames = [goodRoadDF, badRoadDF]\n",
    "X = pd.concat(frames)\n",
    "X = X[['meanSpeed', 'sdSpeed', 'maxAccelX', 'maxAccelY', 'maxAccelZ', 'maxGyroX', \n",
    "       'maxGyroY', 'maxGyroZ', 'minAccelX', 'minAccelY', 'minAccelZ', 'minGyroX', \n",
    "       'minGyroY', 'minGyroZ', 'meanAccelX', 'meanAccelY', 'meanAccelZ', \n",
    "       'meanGyroX', 'meanGyroY', 'meanGyroZ', 'sdAccelX', 'sdAccelY', 'sdAccelZ', \n",
    "       'sdGyroX', 'sdGyroY', 'sdGyroZ']]"
   ]
  },
  {
   "cell_type": "markdown",
   "metadata": {},
   "source": [
    "### Classification: SVM"
   ]
  },
  {
   "cell_type": "code",
   "execution_count": 167,
   "metadata": {
    "collapsed": false,
    "scrolled": false
   },
   "outputs": [
    {
     "name": "stdout",
     "output_type": "stream",
     "text": [
      "Final Classifier Test Accuracy:  0.934210526316\n"
     ]
    },
    {
     "data": {
      "image/png": "[encoded data removed]",
      "text/plain": [
       "<matplotlib.figure.Figure at 0x115e9cf90>"
      ]
     },
     "metadata": {},
     "output_type": "display_data"
    }
   ],
   "source": [
    "Cs = [1, 50, 100, 150, 200, 250, 300, 350, 400, 450, 500]\n",
    "cvAccuracy = []\n",
    "trainMisclassRate = []\n",
    "testMisclassRate = []\n",
    "\n",
    "X_train, X_test, y_train, y_test = train_test_split(X, y, test_size=0.33, random_state=0)\n",
    "\n",
    "for c in Cs:\n",
    "    clf = svm.SVC(C=c)\n",
    "    scores = cross_val_score(clf, X,y, cv=5)\n",
    "    cvAccuracy.append(np.mean(scores))\n",
    "    clf.fit(X_train,y_train)\n",
    "    y_fitted = clf.predict(X_train)\n",
    "    y_pred = clf.predict(X_test)\n",
    "    trainMisclassRate.append(np.mean(y_fitted!=y_train))\n",
    "    testMisclassRate.append(np.mean(y_pred!=y_test))\n",
    "\n",
    "plt.figure(figsize=(8,6))\n",
    "plt.plot(Cs, trainMisclassRate, label=\"Training Set\")\n",
    "plt.plot(Cs, testMisclassRate, label=\"Test Set\")\n",
    "plt.legend(loc='upper right', fontsize=14)\n",
    "plt.title('Misclassification Rate vs. SVM C Parameter', fontsize=14)\n",
    "plt.xlabel('C', fontsize=14)\n",
    "plt.ylabel('Misclassification Rate', fontsize=14)\n",
    "\n",
    "# Final SVM Classifier\n",
    "clf = svm.SVC(C=250)\n",
    "clf.fit(X_train,y_train)\n",
    "y_pred = clf.predict(X_test)\n",
    "accuracy = np.mean(y_pred==y_test)\n",
    "print \"Final Classifier Test Accuracy: \", accuracy"
   ]
  },
  {
   "cell_type": "markdown",
   "metadata": {},
   "source": [
    "### Evaluation Metrics: SVM"
   ]
  },
  {
   "cell_type": "code",
   "execution_count": 168,
   "metadata": {
    "collapsed": false
   },
   "outputs": [
    {
     "data": {
      "text/plain": [
       "array([[119,   6],\n",
       "       [  4,  23]])"
      ]
     },
     "execution_count": 168,
     "metadata": {},
     "output_type": "execute_result"
    }
   ],
   "source": [
    "e = [1,2,3]\n",
    "b = [1,2,3]\n",
    "confusion_matrix(y_test, y_pred)"
   ]
  },
  {
   "cell_type": "code",
   "execution_count": 169,
   "metadata": {
    "collapsed": false
   },
   "outputs": [
    {
     "name": "stdout",
     "output_type": "stream",
     "text": [
      "             precision    recall  f1-score   support\n",
      "\n",
      "        0.0       0.97      0.95      0.96       125\n",
      "        1.0       0.79      0.85      0.82        27\n",
      "\n",
      "avg / total       0.94      0.93      0.94       152\n",
      "\n"
     ]
    }
   ],
   "source": [
    "a = classification_report(y_test, y_pred)\n",
    "print a"
   ]
  },
  {
   "cell_type": "markdown",
   "metadata": {
    "collapsed": true
   },
   "source": [
    "### Classification: Random Forest"
   ]
  },
  {
   "cell_type": "code",
   "execution_count": null,
   "metadata": {
    "collapsed": true
   },
   "outputs": [],
   "source": []
  }
 ],
 "metadata": {
  "anaconda-cloud": {},
  "kernelspec": {
   "display_name": "Python [Root]",
   "language": "python",
   "name": "Python [Root]"
  },
  "language_info": {
   "codemirror_mode": {
    "name": "ipython",
    "version": 2
   },
   "file_extension": ".py",
   "mimetype": "text/x-python",
   "name": "python",
   "nbconvert_exporter": "python",
   "pygments_lexer": "ipython2",
   "version": "2.7.12"
  }
 },
 "nbformat": 4,
 "nbformat_minor": 2
}
