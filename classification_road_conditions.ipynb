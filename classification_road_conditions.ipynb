{
 "cells": [
  {
   "cell_type": "markdown",
   "metadata": {},
   "source": [
    "# Classification: Good vs. Bad Road Conditions"
   ]
  },
  {
   "cell_type": "markdown",
   "metadata": {},
   "source": [
    "Description: Classifying good and bad road conditions using accelerometer and gyroscope data <b>without</b> pothole labels."
   ]
  },
  {
   "cell_type": "code",
   "execution_count": 1,
   "metadata": {
    "collapsed": false
   },
   "outputs": [],
   "source": [
    "import numpy as np\n",
    "import pandas as pd\n",
    "import matplotlib\n",
    "%matplotlib inline\n",
    "import matplotlib.pyplot as plt\n",
    "import seaborn\n",
    "from sklearn.model_selection import cross_val_score\n",
    "from sklearn.model_selection import train_test_split\n",
    "from sklearn.dummy import DummyClassifier\n",
    "from sklearn import svm\n",
    "from sklearn.metrics import confusion_matrix, classification_report\n",
    "from sklearn.linear_model import LogisticRegression\n",
    "from sklearn.ensemble import RandomForestClassifier\n",
    "from sklearn.tree import DecisionTreeClassifier\n",
    "from sklearn.ensemble import GradientBoostingClassifier"
   ]
  },
  {
   "cell_type": "markdown",
   "metadata": {},
   "source": [
    "### Load and combine all trip data files"
   ]
  },
  {
   "cell_type": "code",
   "execution_count": 2,
   "metadata": {
    "collapsed": false
   },
   "outputs": [
    {
     "name": "stdout",
     "output_type": "stream",
     "text": [
      "(373, 27)\n",
      "(86, 27)\n"
     ]
    },
    {
     "data": {
      "text/html": [
       "<div>\n",
       "<table border=\"1\" class=\"dataframe\">\n",
       "  <thead>\n",
       "    <tr style=\"text-align: right;\">\n",
       "      <th></th>\n",
       "      <th>meanSpeed</th>\n",
       "      <th>sdSpeed</th>\n",
       "      <th>maxAccelX</th>\n",
       "      <th>maxAccelY</th>\n",
       "      <th>maxAccelZ</th>\n",
       "      <th>maxGyroX</th>\n",
       "      <th>maxGyroY</th>\n",
       "      <th>maxGyroZ</th>\n",
       "      <th>minAccelX</th>\n",
       "      <th>minAccelY</th>\n",
       "      <th>...</th>\n",
       "      <th>meanGyroX</th>\n",
       "      <th>meanGyroY</th>\n",
       "      <th>meanGyroZ</th>\n",
       "      <th>sdAccelX</th>\n",
       "      <th>sdAccelY</th>\n",
       "      <th>sdAccelZ</th>\n",
       "      <th>sdGyroX</th>\n",
       "      <th>sdGyroY</th>\n",
       "      <th>sdGyroZ</th>\n",
       "      <th>condition</th>\n",
       "    </tr>\n",
       "  </thead>\n",
       "  <tbody>\n",
       "    <tr>\n",
       "      <th>0</th>\n",
       "      <td>6.1144</td>\n",
       "      <td>3.403760</td>\n",
       "      <td>0.383011</td>\n",
       "      <td>-0.749512</td>\n",
       "      <td>0.570755</td>\n",
       "      <td>0.103806</td>\n",
       "      <td>0.088366</td>\n",
       "      <td>0.152383</td>\n",
       "      <td>-0.196838</td>\n",
       "      <td>-1.029388</td>\n",
       "      <td>...</td>\n",
       "      <td>-0.015758</td>\n",
       "      <td>-0.055464</td>\n",
       "      <td>0.013032</td>\n",
       "      <td>0.129483</td>\n",
       "      <td>0.056851</td>\n",
       "      <td>0.105767</td>\n",
       "      <td>0.045063</td>\n",
       "      <td>0.082824</td>\n",
       "      <td>0.051742</td>\n",
       "      <td>1.0</td>\n",
       "    </tr>\n",
       "    <tr>\n",
       "      <th>1</th>\n",
       "      <td>14.0400</td>\n",
       "      <td>0.572385</td>\n",
       "      <td>0.468079</td>\n",
       "      <td>-0.834000</td>\n",
       "      <td>0.357269</td>\n",
       "      <td>0.148332</td>\n",
       "      <td>0.147995</td>\n",
       "      <td>0.196600</td>\n",
       "      <td>-0.125839</td>\n",
       "      <td>-1.069000</td>\n",
       "      <td>...</td>\n",
       "      <td>-0.044440</td>\n",
       "      <td>-0.026131</td>\n",
       "      <td>0.017567</td>\n",
       "      <td>0.132480</td>\n",
       "      <td>0.069546</td>\n",
       "      <td>0.080862</td>\n",
       "      <td>0.072902</td>\n",
       "      <td>0.102188</td>\n",
       "      <td>0.061287</td>\n",
       "      <td>1.0</td>\n",
       "    </tr>\n",
       "    <tr>\n",
       "      <th>2</th>\n",
       "      <td>11.8460</td>\n",
       "      <td>1.657076</td>\n",
       "      <td>0.146255</td>\n",
       "      <td>-0.890030</td>\n",
       "      <td>0.209290</td>\n",
       "      <td>0.049897</td>\n",
       "      <td>0.064855</td>\n",
       "      <td>0.094294</td>\n",
       "      <td>-0.042847</td>\n",
       "      <td>-1.096878</td>\n",
       "      <td>...</td>\n",
       "      <td>-0.033697</td>\n",
       "      <td>-0.017651</td>\n",
       "      <td>0.002942</td>\n",
       "      <td>0.051147</td>\n",
       "      <td>0.055115</td>\n",
       "      <td>0.054110</td>\n",
       "      <td>0.055621</td>\n",
       "      <td>0.056417</td>\n",
       "      <td>0.035661</td>\n",
       "      <td>1.0</td>\n",
       "    </tr>\n",
       "    <tr>\n",
       "      <th>3</th>\n",
       "      <td>4.5560</td>\n",
       "      <td>1.746146</td>\n",
       "      <td>0.205185</td>\n",
       "      <td>-0.820557</td>\n",
       "      <td>0.446823</td>\n",
       "      <td>0.116965</td>\n",
       "      <td>0.002499</td>\n",
       "      <td>0.178255</td>\n",
       "      <td>-0.349670</td>\n",
       "      <td>-1.151627</td>\n",
       "      <td>...</td>\n",
       "      <td>-0.000120</td>\n",
       "      <td>-0.260941</td>\n",
       "      <td>0.058930</td>\n",
       "      <td>0.121160</td>\n",
       "      <td>0.066926</td>\n",
       "      <td>0.133372</td>\n",
       "      <td>0.051508</td>\n",
       "      <td>0.130341</td>\n",
       "      <td>0.069800</td>\n",
       "      <td>1.0</td>\n",
       "    </tr>\n",
       "    <tr>\n",
       "      <th>4</th>\n",
       "      <td>5.5180</td>\n",
       "      <td>1.172060</td>\n",
       "      <td>0.654892</td>\n",
       "      <td>-0.285400</td>\n",
       "      <td>0.741577</td>\n",
       "      <td>0.532265</td>\n",
       "      <td>0.670697</td>\n",
       "      <td>0.393452</td>\n",
       "      <td>-0.493896</td>\n",
       "      <td>-1.737823</td>\n",
       "      <td>...</td>\n",
       "      <td>0.019539</td>\n",
       "      <td>0.055266</td>\n",
       "      <td>-0.034104</td>\n",
       "      <td>0.305415</td>\n",
       "      <td>0.293934</td>\n",
       "      <td>0.207137</td>\n",
       "      <td>0.281987</td>\n",
       "      <td>0.274525</td>\n",
       "      <td>0.192304</td>\n",
       "      <td>1.0</td>\n",
       "    </tr>\n",
       "  </tbody>\n",
       "</table>\n",
       "<p>5 rows × 27 columns</p>\n",
       "</div>"
      ],
      "text/plain": [
       "   meanSpeed   sdSpeed  maxAccelX  maxAccelY  maxAccelZ  maxGyroX  maxGyroY  \\\n",
       "0     6.1144  3.403760   0.383011  -0.749512   0.570755  0.103806  0.088366   \n",
       "1    14.0400  0.572385   0.468079  -0.834000   0.357269  0.148332  0.147995   \n",
       "2    11.8460  1.657076   0.146255  -0.890030   0.209290  0.049897  0.064855   \n",
       "3     4.5560  1.746146   0.205185  -0.820557   0.446823  0.116965  0.002499   \n",
       "4     5.5180  1.172060   0.654892  -0.285400   0.741577  0.532265  0.670697   \n",
       "\n",
       "   maxGyroZ  minAccelX  minAccelY    ...      meanGyroX  meanGyroY  meanGyroZ  \\\n",
       "0  0.152383  -0.196838  -1.029388    ...      -0.015758  -0.055464   0.013032   \n",
       "1  0.196600  -0.125839  -1.069000    ...      -0.044440  -0.026131   0.017567   \n",
       "2  0.094294  -0.042847  -1.096878    ...      -0.033697  -0.017651   0.002942   \n",
       "3  0.178255  -0.349670  -1.151627    ...      -0.000120  -0.260941   0.058930   \n",
       "4  0.393452  -0.493896  -1.737823    ...       0.019539   0.055266  -0.034104   \n",
       "\n",
       "   sdAccelX  sdAccelY  sdAccelZ   sdGyroX   sdGyroY   sdGyroZ  condition  \n",
       "0  0.129483  0.056851  0.105767  0.045063  0.082824  0.051742        1.0  \n",
       "1  0.132480  0.069546  0.080862  0.072902  0.102188  0.061287        1.0  \n",
       "2  0.051147  0.055115  0.054110  0.055621  0.056417  0.035661        1.0  \n",
       "3  0.121160  0.066926  0.133372  0.051508  0.130341  0.069800        1.0  \n",
       "4  0.305415  0.293934  0.207137  0.281987  0.274525  0.192304        1.0  \n",
       "\n",
       "[5 rows x 27 columns]"
      ]
     },
     "execution_count": 2,
     "metadata": {},
     "output_type": "execute_result"
    }
   ],
   "source": [
    "numGoodTrips = 10\n",
    "numBadTrips = 5\n",
    "dataDir = 'data/Good_Road_Bad_Road/'\n",
    "goodRoadDF = pd.DataFrame()\n",
    "badRoadDF = pd.DataFrame()\n",
    "\n",
    "# Put all good road data into goodRoadDF\n",
    "for goodRoadIndex in range(1, numGoodTrips+1):\n",
    "    goodRoadFilePath = dataDir + 'good%s_intervals.csv' % goodRoadIndex\n",
    "    tripDF = pd.read_csv(goodRoadFilePath)\n",
    "    goodRoadDF = goodRoadDF.append(tripDF)\n",
    "    \n",
    "# Put all bad road data into badRoadDF\n",
    "for badRoadIndex in range(1, numBadTrips+1):\n",
    "    badRoadFilePath = dataDir + 'bad%s_intervals.csv' % badRoadIndex\n",
    "    tripDF = pd.read_csv(badRoadFilePath)\n",
    "    badRoadDF = badRoadDF.append(tripDF)\n",
    "\n",
    "# Some data cleaning\n",
    "goodRoadDF.drop('Unnamed: 0', axis=1, inplace=True)\n",
    "badRoadDF.drop('Unnamed: 0', axis=1, inplace=True)\n",
    "goodRoadDF.dropna(inplace=True)\n",
    "badRoadDF.dropna(inplace=True)\n",
    "goodRoadDF.reset_index(drop=True, inplace=True)\n",
    "badRoadDF.reset_index(drop=True, inplace=True)\n",
    "\n",
    "print (goodRoadDF.shape)\n",
    "print (badRoadDF.shape)\n",
    "badRoadDF.head()"
   ]
  },
  {
   "cell_type": "markdown",
   "metadata": {},
   "source": [
    "### Setup Features and Labels"
   ]
  },
  {
   "cell_type": "code",
   "execution_count": 3,
   "metadata": {
    "collapsed": true
   },
   "outputs": [],
   "source": [
    "a = goodRoadDF['condition']\n",
    "b = badRoadDF['condition']\n",
    "y = np.append(a,b)\n",
    "frames = [goodRoadDF, badRoadDF]\n",
    "X = pd.concat(frames)\n",
    "X = X[['meanSpeed', 'sdSpeed', 'maxAccelX', 'maxAccelY', 'maxAccelZ', 'maxGyroX', \n",
    "       'maxGyroY', 'maxGyroZ', 'minAccelX', 'minAccelY', 'minAccelZ', 'minGyroX', \n",
    "       'minGyroY', 'minGyroZ', 'meanAccelX', 'meanAccelY', 'meanAccelZ', \n",
    "       'meanGyroX', 'meanGyroY', 'meanGyroZ', 'sdAccelX', 'sdAccelY', 'sdAccelZ', \n",
    "       'sdGyroX', 'sdGyroY', 'sdGyroZ']]\n",
    "X_train, X_test, y_train, y_test = train_test_split(X, y, test_size=0.33, random_state=0)"
   ]
  },
  {
   "cell_type": "markdown",
   "metadata": {},
   "source": [
    "### Imbalance of Classes"
   ]
  },
  {
   "cell_type": "code",
   "execution_count": 4,
   "metadata": {
    "collapsed": false
   },
   "outputs": [
    {
     "data": {
      "text/plain": [
       "0.0    373\n",
       "1.0     86\n",
       "dtype: int64"
      ]
     },
     "execution_count": 4,
     "metadata": {},
     "output_type": "execute_result"
    }
   ],
   "source": [
    "pd.value_counts(y)"
   ]
  },
  {
   "cell_type": "markdown",
   "metadata": {},
   "source": [
    "## Classification: Baseline Model\n",
    "\n",
    "This is the same as predicting the majority class for every instance. Will serve as a baseline for accuracy/precision/recall."
   ]
  },
  {
   "cell_type": "code",
   "execution_count": 5,
   "metadata": {
    "collapsed": false
   },
   "outputs": [
    {
     "name": "stdout",
     "output_type": "stream",
     "text": [
      "Accuracy: 0.822368421053\n",
      "\n",
      "Classification Report:\n",
      "             precision    recall  f1-score   support\n",
      "\n",
      "        0.0       0.82      1.00      0.90       125\n",
      "        1.0       0.00      0.00      0.00        27\n",
      "\n",
      "avg / total       0.68      0.82      0.74       152\n",
      "\n",
      "\n",
      "Confusion matrix:\n"
     ]
    },
    {
     "name": "stderr",
     "output_type": "stream",
     "text": [
      "/Users/Shouvik/Applications/anaconda2/lib/python2.7/site-packages/sklearn/metrics/classification.py:1113: UndefinedMetricWarning: Precision and F-score are ill-defined and being set to 0.0 in labels with no predicted samples.\n",
      "  'precision', 'predicted', average, warn_for)\n"
     ]
    },
    {
     "data": {
      "text/plain": [
       "array([[125,   0],\n",
       "       [ 27,   0]])"
      ]
     },
     "execution_count": 5,
     "metadata": {},
     "output_type": "execute_result"
    }
   ],
   "source": [
    "clf = DummyClassifier(strategy='most_frequent')\n",
    "clf.fit(X_train, y_train)\n",
    "y_pred = clf.predict(X_test)\n",
    "accuracy = np.mean(y_pred == y_test)\n",
    "print \"Accuracy:\", accuracy\n",
    "print \"\\nClassification Report:\"\n",
    "print(classification_report(y_test, y_pred))\n",
    "print \"\\nConfusion matrix:\"\n",
    "confusion_matrix(y_test, y_pred)"
   ]
  },
  {
   "cell_type": "markdown",
   "metadata": {},
   "source": [
    "## Classification: SVM"
   ]
  },
  {
   "cell_type": "code",
   "execution_count": 8,
   "metadata": {
    "collapsed": false,
    "scrolled": false
   },
   "outputs": [
    {
     "name": "stdout",
     "output_type": "stream",
     "text": [
      "('Final SVM Test Accuracy: ', 0.92763157894736847)\n"
     ]
    },
    {
     "data": {
      "image/png": "[encoded data removed]",
      "text/plain": [
       "<matplotlib.figure.Figure at 0x10f78ec90>"
      ]
     },
     "metadata": {},
     "output_type": "display_data"
    }
   ],
   "source": [
    "Cs = [1, 50, 100, 150, 200, 250, 300, 350, 400, 450, 500]\n",
    "cvAccuracy = []\n",
    "trainMisclassRate = []\n",
    "testMisclassRate = []\n",
    "\n",
    "for c in Cs:\n",
    "    clf = svm.SVC(C=c)\n",
    "    scores = cross_val_score(clf, X,y, cv=5)\n",
    "    cvAccuracy.append(np.mean(scores))\n",
    "    clf.fit(X_train,y_train)\n",
    "    y_fitted = clf.predict(X_train)\n",
    "    y_pred = clf.predict(X_test)\n",
    "    trainMisclassRate.append(np.mean(y_fitted!=y_train))\n",
    "    testMisclassRate.append(np.mean(y_pred!=y_test))\n",
    "\n",
    "plt.figure(figsize=(8,6))\n",
    "plt.plot(Cs, trainMisclassRate, label=\"Training Set\")\n",
    "plt.plot(Cs, testMisclassRate, label=\"Test Set\")\n",
    "plt.legend(loc='upper right', fontsize=14)\n",
    "plt.title('Misclassification Rate vs. SVM C Parameter', fontsize=14)\n",
    "plt.xlabel('C', fontsize=14)\n",
    "plt.ylabel('Misclassification Rate', fontsize=14)\n",
    "\n",
    "# Final SVM Classifier\n",
    "clf = svm.SVC(C=150)\n",
    "clf.fit(X_train,y_train)\n",
    "y_pred = clf.predict(X_test)\n",
    "accuracy = np.mean(y_pred==y_test)\n",
    "print (\"Final SVM Test Accuracy: \", accuracy)"
   ]
  },
  {
   "cell_type": "markdown",
   "metadata": {},
   "source": [
    "### Evaluation Metrics: SVM"
   ]
  },
  {
   "cell_type": "code",
   "execution_count": 9,
   "metadata": {
    "collapsed": false
   },
   "outputs": [
    {
     "data": {
      "text/plain": [
       "array([[119,   6],\n",
       "       [  5,  22]])"
      ]
     },
     "execution_count": 9,
     "metadata": {},
     "output_type": "execute_result"
    }
   ],
   "source": [
    "e = [1,2,3]\n",
    "b = [1,2,3]\n",
    "confusion_matrix(y_test, y_pred)"
   ]
  },
  {
   "cell_type": "code",
   "execution_count": 10,
   "metadata": {
    "collapsed": false
   },
   "outputs": [
    {
     "name": "stdout",
     "output_type": "stream",
     "text": [
      "             precision    recall  f1-score   support\n",
      "\n",
      "        0.0       0.96      0.95      0.96       125\n",
      "        1.0       0.79      0.81      0.80        27\n",
      "\n",
      "avg / total       0.93      0.93      0.93       152\n",
      "\n"
     ]
    }
   ],
   "source": [
    "a = classification_report(y_test, y_pred)\n",
    "print (a)"
   ]
  },
  {
   "cell_type": "markdown",
   "metadata": {
    "collapsed": true
   },
   "source": [
    "## Classification: Logistic Regression"
   ]
  },
  {
   "cell_type": "code",
   "execution_count": 11,
   "metadata": {
    "collapsed": false
   },
   "outputs": [
    {
     "name": "stdout",
     "output_type": "stream",
     "text": [
      "('Final Logistic Test Accuracy: ', 0.92763157894736847)\n"
     ]
    },
    {
     "data": {
      "image/png": "[encoded data removed]",
      "text/plain": [
       "<matplotlib.figure.Figure at 0x10f88e910>"
      ]
     },
     "metadata": {},
     "output_type": "display_data"
    }
   ],
   "source": [
    "Cs = [1, 50, 100, 150, 200, 250, 300, 350, 400, 450, 500]\n",
    "cvAccuracy = []\n",
    "trainMisclassRate = []\n",
    "testMisclassRate = []\n",
    "\n",
    "X_train, X_test, y_train, y_test = train_test_split(X, y, test_size=0.33, random_state=0)\n",
    "\n",
    "for c in Cs:\n",
    "    clf = LogisticRegression(C=c)\n",
    "    scores = cross_val_score(clf, X,y, cv=5)\n",
    "    cvAccuracy.append(np.mean(scores))\n",
    "    clf.fit(X_train,y_train)\n",
    "    y_fitted = clf.predict(X_train)\n",
    "    y_pred = clf.predict(X_test)\n",
    "    trainMisclassRate.append(np.mean(y_fitted!=y_train))\n",
    "    testMisclassRate.append(np.mean(y_pred!=y_test))\n",
    "\n",
    "plt.figure(figsize=(8,6))\n",
    "plt.plot(Cs, trainMisclassRate, label=\"Training Set\")\n",
    "plt.plot(Cs, testMisclassRate, label=\"Test Set\")\n",
    "plt.legend(loc='upper right', fontsize=14)\n",
    "plt.title('Misclassification Rate vs. Logistic C Parameter', fontsize=14)\n",
    "plt.xlabel('C', fontsize=14)\n",
    "plt.ylabel('Misclassification Rate', fontsize=14)\n",
    "\n",
    "# Final Logistic Classifier\n",
    "clf = LogisticRegression(C=250)\n",
    "clf.fit(X_train,y_train)\n",
    "y_pred = clf.predict(X_test)\n",
    "accuracy = np.mean(y_pred==y_test)\n",
    "print (\"Final Logistic Test Accuracy: \", accuracy)"
   ]
  },
  {
   "cell_type": "markdown",
   "metadata": {},
   "source": [
    "### Evaluation Metrics: LR"
   ]
  },
  {
   "cell_type": "code",
   "execution_count": 12,
   "metadata": {
    "collapsed": false
   },
   "outputs": [
    {
     "data": {
      "text/plain": [
       "array([[120,   5],\n",
       "       [  6,  21]])"
      ]
     },
     "execution_count": 12,
     "metadata": {},
     "output_type": "execute_result"
    }
   ],
   "source": [
    "e = [1,2,3]\n",
    "b = [1,2,3]\n",
    "confusion_matrix(y_test, y_pred)"
   ]
  },
  {
   "cell_type": "code",
   "execution_count": 13,
   "metadata": {
    "collapsed": false
   },
   "outputs": [
    {
     "name": "stdout",
     "output_type": "stream",
     "text": [
      "             precision    recall  f1-score   support\n",
      "\n",
      "        0.0       0.95      0.96      0.96       125\n",
      "        1.0       0.81      0.78      0.79        27\n",
      "\n",
      "avg / total       0.93      0.93      0.93       152\n",
      "\n"
     ]
    }
   ],
   "source": [
    "a = classification_report(y_test, y_pred)\n",
    "print (a)"
   ]
  },
  {
   "cell_type": "markdown",
   "metadata": {},
   "source": [
    "## Classification: Random Forest"
   ]
  },
  {
   "cell_type": "code",
   "execution_count": 14,
   "metadata": {
    "collapsed": false
   },
   "outputs": [
    {
     "name": "stdout",
     "output_type": "stream",
     "text": [
      "('Final Random Forest Test Accuracy: ', 0.93421052631578949)\n"
     ]
    },
    {
     "data": {
      "image/png": "[encoded data removed]",
      "text/plain": [
       "<matplotlib.figure.Figure at 0x10f8b3890>"
      ]
     },
     "metadata": {},
     "output_type": "display_data"
    }
   ],
   "source": [
    "Cs = [1,2,3,4,5,6,7,8,9,10]\n",
    "cvAccuracy = []\n",
    "trainMisclassRate = []\n",
    "testMisclassRate = []\n",
    "\n",
    "X_train, X_test, y_train, y_test = train_test_split(X, y, test_size=0.33, random_state=0)\n",
    "\n",
    "for c in Cs:\n",
    "    clf = RandomForestClassifier(n_estimators=c)\n",
    "    scores = cross_val_score(clf, X,y, cv=5)\n",
    "    cvAccuracy.append(np.mean(scores))\n",
    "    clf.fit(X_train,y_train)\n",
    "    y_fitted = clf.predict(X_train)\n",
    "    y_pred = clf.predict(X_test)\n",
    "    trainMisclassRate.append(np.mean(y_fitted!=y_train))\n",
    "    testMisclassRate.append(np.mean(y_pred!=y_test))\n",
    "\n",
    "plt.figure(figsize=(8,6))\n",
    "plt.plot(Cs, trainMisclassRate, label=\"Training Set\")\n",
    "plt.plot(Cs, testMisclassRate, label=\"Test Set\")\n",
    "plt.legend(loc='upper right', fontsize=14)\n",
    "plt.title('Misclassification Rate vs. Trees', fontsize=14)\n",
    "plt.xlabel('C', fontsize=14)\n",
    "plt.ylabel('Misclassification Rate', fontsize=14)\n",
    "\n",
    "# Final Random Forest Classifier\n",
    "clf = RandomForestClassifier(n_estimators=6)\n",
    "clf.fit(X_train,y_train)\n",
    "y_pred = clf.predict(X_test)\n",
    "accuracy = np.mean(y_pred==y_test)\n",
    "print (\"Final Random Forest Test Accuracy: \", accuracy)"
   ]
  },
  {
   "cell_type": "markdown",
   "metadata": {},
   "source": [
    "### Evaluation Metrics: Random Forest"
   ]
  },
  {
   "cell_type": "code",
   "execution_count": 15,
   "metadata": {
    "collapsed": false
   },
   "outputs": [
    {
     "data": {
      "text/plain": [
       "array([[123,   2],\n",
       "       [  8,  19]])"
      ]
     },
     "execution_count": 15,
     "metadata": {},
     "output_type": "execute_result"
    }
   ],
   "source": [
    "e = [1,2,3]\n",
    "b = [1,2,3]\n",
    "confusion_matrix(y_test, y_pred)"
   ]
  },
  {
   "cell_type": "code",
   "execution_count": 16,
   "metadata": {
    "collapsed": false
   },
   "outputs": [
    {
     "name": "stdout",
     "output_type": "stream",
     "text": [
      "             precision    recall  f1-score   support\n",
      "\n",
      "        0.0       0.94      0.98      0.96       125\n",
      "        1.0       0.90      0.70      0.79        27\n",
      "\n",
      "avg / total       0.93      0.93      0.93       152\n",
      "\n"
     ]
    }
   ],
   "source": [
    "a = classification_report(y_test, y_pred)\n",
    "print (a)"
   ]
  },
  {
   "cell_type": "markdown",
   "metadata": {},
   "source": [
    "## Classification: Gradient Boosting"
   ]
  },
  {
   "cell_type": "code",
   "execution_count": 18,
   "metadata": {
    "collapsed": false
   },
   "outputs": [
    {
     "name": "stdout",
     "output_type": "stream",
     "text": [
      "('Final Gradient Boosting Test Accuracy: ', 0.95394736842105265)\n"
     ]
    },
    {
     "data": {
      "image/png": "[encoded data removed]",
      "text/plain": [
       "<matplotlib.figure.Figure at 0x113d27250>"
      ]
     },
     "metadata": {},
     "output_type": "display_data"
    }
   ],
   "source": [
    "Cs = [1,2,3,4,5,6]\n",
    "cvAccuracy = []\n",
    "trainMisclassRate = []\n",
    "testMisclassRate = []\n",
    "\n",
    "for c in Cs:\n",
    "    clf = GradientBoostingClassifier(max_depth=c)\n",
    "    scores = cross_val_score(clf, X,y, cv=5)\n",
    "    cvAccuracy.append(np.mean(scores))\n",
    "    clf.fit(X_train,y_train)\n",
    "    y_fitted = clf.predict(X_train)\n",
    "    y_pred = clf.predict(X_test)\n",
    "    trainMisclassRate.append(np.mean(y_fitted!=y_train))\n",
    "    testMisclassRate.append(np.mean(y_pred!=y_test))\n",
    "\n",
    "plt.figure(figsize=(8,6))\n",
    "plt.plot(Cs, trainMisclassRate, label=\"Training Set\")\n",
    "plt.plot(Cs, testMisclassRate, label=\"Test Set\")\n",
    "plt.legend(loc='upper right', fontsize=14)\n",
    "plt.title('Misclassification Rate vs. Max Depth', fontsize=14)\n",
    "plt.xlabel('C', fontsize=14)\n",
    "plt.ylabel('Misclassification Rate', fontsize=14)\n",
    "\n",
    "# Final Gradient Boosting Classifier\n",
    "X_train, X_test, y_train, y_test = train_test_split(X, y, test_size=0.33, random_state=0)\n",
    "clf = GradientBoostingClassifier(max_depth = 2)\n",
    "clf.fit(X_train,y_train)\n",
    "y_pred = clf.predict(X_test)\n",
    "accuracy = np.mean(y_pred==y_test)\n",
    "print (\"Final Gradient Boosting Test Accuracy: \", accuracy)"
   ]
  },
  {
   "cell_type": "code",
   "execution_count": 19,
   "metadata": {
    "collapsed": false
   },
   "outputs": [
    {
     "data": {
      "text/plain": [
       "array([[123,   2],\n",
       "       [  5,  22]])"
      ]
     },
     "execution_count": 19,
     "metadata": {},
     "output_type": "execute_result"
    }
   ],
   "source": [
    "e = [1,2,3]\n",
    "b = [1,2,3]\n",
    "confusion_matrix(y_test, y_pred)"
   ]
  },
  {
   "cell_type": "code",
   "execution_count": 20,
   "metadata": {
    "collapsed": false
   },
   "outputs": [
    {
     "name": "stdout",
     "output_type": "stream",
     "text": [
      "             precision    recall  f1-score   support\n",
      "\n",
      "        0.0       0.96      0.98      0.97       125\n",
      "        1.0       0.92      0.81      0.86        27\n",
      "\n",
      "avg / total       0.95      0.95      0.95       152\n",
      "\n"
     ]
    }
   ],
   "source": [
    "a = classification_report(y_test, y_pred)\n",
    "print (a)"
   ]
  },
  {
   "cell_type": "markdown",
   "metadata": {
    "collapsed": true
   },
   "source": [
    "## Final Model: Gradient Boosting"
   ]
  },
  {
   "cell_type": "markdown",
   "metadata": {},
   "source": [
    "Training the gradient boosting model on the entire dataset (not just training data)."
   ]
  },
  {
   "cell_type": "code",
   "execution_count": 24,
   "metadata": {
    "collapsed": false
   },
   "outputs": [
    {
     "data": {
      "text/plain": [
       "GradientBoostingClassifier(criterion='friedman_mse', init=None,\n",
       "              learning_rate=0.1, loss='deviance', max_depth=2,\n",
       "              max_features=None, max_leaf_nodes=None,\n",
       "              min_impurity_split=1e-07, min_samples_leaf=1,\n",
       "              min_samples_split=2, min_weight_fraction_leaf=0.0,\n",
       "              n_estimators=100, presort='auto', random_state=None,\n",
       "              subsample=1.0, verbose=0, warm_start=False)"
      ]
     },
     "execution_count": 24,
     "metadata": {},
     "output_type": "execute_result"
    }
   ],
   "source": [
    "clf = GradientBoostingClassifier(max_depth = 2)\n",
    "clf.fit(X, y)\n",
    "clf"
   ]
  },
  {
   "cell_type": "markdown",
   "metadata": {},
   "source": [
    "Save classifier to pickled file."
   ]
  },
  {
   "cell_type": "code",
   "execution_count": 25,
   "metadata": {
    "collapsed": true
   },
   "outputs": [],
   "source": [
    "import cPickle as pickle\n",
    "\n",
    "roadConditionsClassifier = {\n",
    "    'classifier': clf\n",
    "}\n",
    "pickle.dump(roadConditionsClassifier, open('roadConditionsClassifier.p', 'wb'))"
   ]
  },
  {
   "cell_type": "code",
   "execution_count": null,
   "metadata": {
    "collapsed": true
   },
   "outputs": [],
   "source": []
  }
 ],
 "metadata": {
  "anaconda-cloud": {},
  "kernelspec": {
   "display_name": "Python [Root]",
   "language": "python",
   "name": "Python [Root]"
  },
  "language_info": {
   "codemirror_mode": {
    "name": "ipython",
    "version": 2
   },
   "file_extension": ".py",
   "mimetype": "text/x-python",
   "name": "python",
   "nbconvert_exporter": "python",
   "pygments_lexer": "ipython2",
   "version": "2.7.12"
  }
 },
 "nbformat": 4,
 "nbformat_minor": 2
}
