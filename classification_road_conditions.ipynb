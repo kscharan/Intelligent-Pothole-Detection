{
 "cells": [
  {
   "cell_type": "markdown",
   "metadata": {},
   "source": [
    "# Classification: Good vs. Bad Road Conditions"
   ]
  },
  {
   "cell_type": "markdown",
   "metadata": {},
   "source": [
    "Description: Classifying good and bad road conditions using accelerometer and gyroscope data without pothole labels."
   ]
  },
  {
   "cell_type": "code",
<<<<<<< Updated upstream
   "execution_count": 24,
   "metadata": {
    "collapsed": false
   },
=======
   "execution_count": 55,
   "metadata": {},
>>>>>>> Stashed changes
   "outputs": [],
   "source": [
    "import numpy as np\n",
    "import pandas as pd\n",
    "import matplotlib\n",
    "%matplotlib inline\n",
    "import matplotlib.pyplot as plt\n",
    "import seaborn\n",
    "from sklearn import svm\n",
    "from sklearn.model_selection import cross_val_score\n",
    "from sklearn.model_selection import train_test_split\n",
    "from sklearn.metrics import confusion_matrix, classification_report\n",
    "from itertools import chain, combinations\n"
   ]
  },
  {
   "cell_type": "markdown",
   "metadata": {},
   "source": [
    "### Get trip data from CSV"
   ]
  },
  {
   "cell_type": "code",
<<<<<<< Updated upstream
   "execution_count": 25,
   "metadata": {
    "collapsed": false
   },
=======
   "execution_count": 2,
   "metadata": {},
>>>>>>> Stashed changes
   "outputs": [
    {
     "name": "stdout",
     "output_type": "stream",
     "text": [
      "(116, 15)\n",
      "(52, 15)\n"
     ]
    }
   ],
   "source": [
    "goodRoadFilePath = 'data/Good_Road_Bad_Road/good6_intervals.csv'\n",
    "badRoadFilePath = 'data/Good_Road_Bad_Road/bad1_intervals.csv'\n",
    "goodRoadDF = pd.read_csv(goodRoadFilePath)\n",
    "badRoadDF = pd.read_csv(badRoadFilePath)\n",
    "print goodRoadDF.shape\n",
    "print badRoadDF.shape"
   ]
  },
  {
   "cell_type": "code",
<<<<<<< Updated upstream
   "execution_count": 26,
   "metadata": {
    "collapsed": false
   },
=======
   "execution_count": 74,
   "metadata": {},
>>>>>>> Stashed changes
   "outputs": [
    {
     "name": "stdout",
     "output_type": "stream",
     "text": [
      "8191\n"
     ]
    }
   ],
   "source": [
    "def powerset(iterable):\n",
    "    \"powerset([1,2,3]) --> () (1,) (2,) (3,) (1,2) (1,3) (2,3) (1,2,3)\"\n",
    "    s = list(iterable)\n",
    "    return chain.from_iterable(combinations(s, r) for r in range(len(s)+1))\n",
    "\n",
    "a = goodRoadDF['condition']\n",
    "b = badRoadDF['condition']\n",
    "y = np.append(a,b)\n",
    "#print y\n",
    "frames = [goodRoadDF, badRoadDF]\n",
    "#print y.shape\n",
    "X = pd.concat(frames)\n",
    "\n",
    "#X = X[['avgSpeed', 'maxAccelX', 'maxAccelY', 'maxAccelZ', 'maxGyroX', \n",
    "#       'maxGyroY', 'maxGyroZ', 'sdAccelX', 'sdAccelY', 'sdAccelZ',\n",
    "#       'sdGyroX','sdGyroY','sdGyroZ']]\n",
    "\n",
    "X = X[['avgSpeed','maxAccelX', 'maxAccelY', 'maxAccelZ', 'maxGyroX', \n",
    "       'maxGyroY', 'maxGyroZ', 'sdAccelX', 'sdAccelY', 'sdAccelZ',\n",
    "       'sdGyroX','sdGyroY','sdGyroZ']]\n",
    "X_powerset = list(powerset(X))[1:]\n",
    "print len(X_powerset)\n",
    "#print X_powerset\n",
    "#X_ = X[list(X_powerset[10])]\n",
    "#print X_\n",
    "#print X[:3]"
   ]
  },
  {
   "cell_type": "code",
<<<<<<< Updated upstream
   "execution_count": 27,
   "metadata": {
    "collapsed": false
   },
=======
   "execution_count": 105,
   "metadata": {},
>>>>>>> Stashed changes
   "outputs": [
    {
     "name": "stdout",
     "output_type": "stream",
     "text": [
      "0.827705627706\n"
     ]
    },
    {
     "data": {
      "text/plain": [
       "0.9107142857142857"
      ]
     },
<<<<<<< Updated upstream
     "execution_count": 27,
=======
     "execution_count": 105,
>>>>>>> Stashed changes
     "metadata": {},
     "output_type": "execute_result"
    }
   ],
   "source": [
    "clf = svm.SVC(C=30)\n",
    "#clf.fit(X, y)  \n",
    "scores = cross_val_score(clf, X,y, cv=5)\n",
<<<<<<< Updated upstream
    "np.mean(scores)"
   ]
  },
  {
   "cell_type": "code",
   "execution_count": 28,
   "metadata": {
    "collapsed": false
   },
   "outputs": [
    {
     "data": {
      "text/plain": [
       "SVC(C=100, cache_size=200, class_weight=None, coef0=0.0,\n",
       "  decision_function_shape=None, degree=3, gamma='auto', kernel='rbf',\n",
       "  max_iter=-1, probability=False, random_state=None, shrinking=True,\n",
       "  tol=0.001, verbose=False)"
      ]
     },
     "execution_count": 28,
     "metadata": {},
     "output_type": "execute_result"
    }
   ],
   "source": [
    "X_train, X_test, y_train, y_test = train_test_split(X, y, test_size=0.33, random_state=42)\n",
    "clf.fit(X_train,y_train)"
   ]
  },
  {
   "cell_type": "code",
   "execution_count": 29,
   "metadata": {
    "collapsed": false
   },
   "outputs": [
    {
     "data": {
      "text/plain": [
       "0.9464285714285714"
      ]
     },
     "execution_count": 29,
     "metadata": {},
     "output_type": "execute_result"
    }
   ],
   "source": [
=======
    "print np.mean(scores)\n",
    "\n",
    "\n",
    "X_train, X_test, y_train, y_test = train_test_split(X, y, test_size=0.33, random_state=42)\n",
    "clf.fit(X_train,y_train)\n",
>>>>>>> Stashed changes
    "y_pred = clf.predict(X_test)\n",
    "np.mean(y_pred==y_test)"
   ]
  },
  {
   "cell_type": "code",
<<<<<<< Updated upstream
   "execution_count": 30,
   "metadata": {
    "collapsed": false
   },
=======
   "execution_count": 98,
   "metadata": {},
>>>>>>> Stashed changes
   "outputs": [
    {
     "data": {
      "text/plain": [
       "array([[34,  6],\n",
       "       [ 1, 15]])"
      ]
     },
<<<<<<< Updated upstream
     "execution_count": 30,
=======
     "execution_count": 98,
>>>>>>> Stashed changes
     "metadata": {},
     "output_type": "execute_result"
    }
   ],
   "source": [
    "e = [1,2,3]\n",
    "b = [1,2,3]\n",
    "confusion_matrix(y_test, y_pred)"
   ]
  },
  {
   "cell_type": "code",
<<<<<<< Updated upstream
   "execution_count": 31,
   "metadata": {
    "collapsed": false
   },
=======
   "execution_count": 51,
   "metadata": {},
>>>>>>> Stashed changes
   "outputs": [
    {
     "name": "stdout",
     "output_type": "stream",
     "text": [
      "             precision    recall  f1-score   support\n",
      "\n",
      "        0.0       1.00      0.93      0.96        40\n",
      "        1.0       0.84      1.00      0.91        16\n",
      "\n",
      "avg / total       0.95      0.95      0.95        56\n",
      "\n"
     ]
    }
   ],
   "source": [
    "a = classification_report(y_test, y_pred)\n",
    "print a"
   ]
  },
  {
   "cell_type": "code",
   "execution_count": null,
   "metadata": {
    "collapsed": true
   },
   "outputs": [],
   "source": []
  }
 ],
 "metadata": {
  "anaconda-cloud": {},
  "kernelspec": {
   "display_name": "Python [default]",
   "language": "python",
   "name": "python2"
  },
  "language_info": {
   "codemirror_mode": {
    "name": "ipython",
    "version": 2
   },
   "file_extension": ".py",
   "mimetype": "text/x-python",
   "name": "python",
   "nbconvert_exporter": "python",
   "pygments_lexer": "ipython2",
   "version": "2.7.13"
  }
 },
 "nbformat": 4,
 "nbformat_minor": 2
}
