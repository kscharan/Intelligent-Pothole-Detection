{
 "cells": [
  {
   "cell_type": "markdown",
   "metadata": {},
   "source": [
    "# Classification: Pothole vs. Non-pothole"
   ]
  },
  {
   "cell_type": "markdown",
   "metadata": {},
   "source": [
    "Description: Classifying 2-second trip intervals as potholes vs. non-potholes using accelerometer and gyroscope data."
   ]
  },
  {
   "cell_type": "code",
   "execution_count": 1,
   "metadata": {
    "collapsed": true
   },
   "outputs": [],
   "source": [
    "import numpy as np\n",
    "import pandas as pd\n",
    "import matplotlib\n",
    "%matplotlib inline\n",
    "import matplotlib.pyplot as plt\n",
    "import seaborn\n",
    "from sklearn.dummy import DummyClassifier\n",
    "from sklearn.svm import SVC\n",
    "from sklearn.linear_model import LogisticRegression\n",
    "from sklearn.ensemble import RandomForestClassifier\n",
    "from sklearn.ensemble import GradientBoostingClassifier\n",
    "from sklearn.neighbors import KNeighborsClassifier\n",
    "from sklearn.model_selection import cross_val_score\n",
    "from sklearn.model_selection import train_test_split\n",
    "from sklearn.metrics import confusion_matrix, classification_report"
   ]
  },
  {
   "cell_type": "markdown",
   "metadata": {},
   "source": [
    "### Load and combine all trip data files"
   ]
  },
  {
   "cell_type": "code",
   "execution_count": 2,
   "metadata": {
    "collapsed": false
   },
   "outputs": [
    {
     "name": "stdout",
     "output_type": "stream",
     "text": [
      "(987, 27)\n"
     ]
    },
    {
     "data": {
      "text/html": [
       "<div>\n",
       "<table border=\"1\" class=\"dataframe\">\n",
       "  <thead>\n",
       "    <tr style=\"text-align: right;\">\n",
       "      <th></th>\n",
       "      <th>meanSpeed</th>\n",
       "      <th>sdSpeed</th>\n",
       "      <th>maxAccelX</th>\n",
       "      <th>maxAccelY</th>\n",
       "      <th>maxAccelZ</th>\n",
       "      <th>maxGyroX</th>\n",
       "      <th>maxGyroY</th>\n",
       "      <th>maxGyroZ</th>\n",
       "      <th>minAccelX</th>\n",
       "      <th>minAccelY</th>\n",
       "      <th>...</th>\n",
       "      <th>meanGyroX</th>\n",
       "      <th>meanGyroY</th>\n",
       "      <th>meanGyroZ</th>\n",
       "      <th>sdAccelX</th>\n",
       "      <th>sdAccelY</th>\n",
       "      <th>sdAccelZ</th>\n",
       "      <th>sdGyroX</th>\n",
       "      <th>sdGyroY</th>\n",
       "      <th>sdGyroZ</th>\n",
       "      <th>pothole</th>\n",
       "    </tr>\n",
       "  </thead>\n",
       "  <tbody>\n",
       "    <tr>\n",
       "      <th>0</th>\n",
       "      <td>0.041</td>\n",
       "      <td>0.129653</td>\n",
       "      <td>0.053787</td>\n",
       "      <td>-0.936584</td>\n",
       "      <td>0.295486</td>\n",
       "      <td>-0.007371</td>\n",
       "      <td>0.019259</td>\n",
       "      <td>0.007240</td>\n",
       "      <td>0.016998</td>\n",
       "      <td>-0.963852</td>\n",
       "      <td>...</td>\n",
       "      <td>-0.020783</td>\n",
       "      <td>-0.001779</td>\n",
       "      <td>0.000218</td>\n",
       "      <td>0.011710</td>\n",
       "      <td>0.009103</td>\n",
       "      <td>0.040247</td>\n",
       "      <td>0.010819</td>\n",
       "      <td>0.008888</td>\n",
       "      <td>0.003437</td>\n",
       "      <td>False</td>\n",
       "    </tr>\n",
       "    <tr>\n",
       "      <th>1</th>\n",
       "      <td>1.364</td>\n",
       "      <td>1.024057</td>\n",
       "      <td>0.120621</td>\n",
       "      <td>-0.875656</td>\n",
       "      <td>0.398834</td>\n",
       "      <td>0.022393</td>\n",
       "      <td>0.006554</td>\n",
       "      <td>0.033050</td>\n",
       "      <td>0.026840</td>\n",
       "      <td>-0.943787</td>\n",
       "      <td>...</td>\n",
       "      <td>-0.022780</td>\n",
       "      <td>-0.018999</td>\n",
       "      <td>-0.003276</td>\n",
       "      <td>0.031252</td>\n",
       "      <td>0.022495</td>\n",
       "      <td>0.028734</td>\n",
       "      <td>0.020178</td>\n",
       "      <td>0.019851</td>\n",
       "      <td>0.014961</td>\n",
       "      <td>False</td>\n",
       "    </tr>\n",
       "    <tr>\n",
       "      <th>2</th>\n",
       "      <td>4.436</td>\n",
       "      <td>1.351158</td>\n",
       "      <td>0.120605</td>\n",
       "      <td>-0.906296</td>\n",
       "      <td>0.404266</td>\n",
       "      <td>-0.010554</td>\n",
       "      <td>0.051599</td>\n",
       "      <td>0.018975</td>\n",
       "      <td>0.033325</td>\n",
       "      <td>-0.988800</td>\n",
       "      <td>...</td>\n",
       "      <td>-0.032363</td>\n",
       "      <td>-0.011066</td>\n",
       "      <td>-0.006807</td>\n",
       "      <td>0.024182</td>\n",
       "      <td>0.022507</td>\n",
       "      <td>0.057296</td>\n",
       "      <td>0.022679</td>\n",
       "      <td>0.024039</td>\n",
       "      <td>0.016592</td>\n",
       "      <td>False</td>\n",
       "    </tr>\n",
       "    <tr>\n",
       "      <th>3</th>\n",
       "      <td>7.060</td>\n",
       "      <td>0.575326</td>\n",
       "      <td>0.115387</td>\n",
       "      <td>-0.893860</td>\n",
       "      <td>0.379074</td>\n",
       "      <td>0.067697</td>\n",
       "      <td>-0.015656</td>\n",
       "      <td>0.061929</td>\n",
       "      <td>-0.036392</td>\n",
       "      <td>-0.986603</td>\n",
       "      <td>...</td>\n",
       "      <td>-0.038749</td>\n",
       "      <td>-0.074418</td>\n",
       "      <td>0.020480</td>\n",
       "      <td>0.047576</td>\n",
       "      <td>0.036484</td>\n",
       "      <td>0.068351</td>\n",
       "      <td>0.095503</td>\n",
       "      <td>0.052869</td>\n",
       "      <td>0.028209</td>\n",
       "      <td>False</td>\n",
       "    </tr>\n",
       "    <tr>\n",
       "      <th>4</th>\n",
       "      <td>9.149</td>\n",
       "      <td>0.864902</td>\n",
       "      <td>0.127914</td>\n",
       "      <td>-0.914444</td>\n",
       "      <td>0.357315</td>\n",
       "      <td>0.031195</td>\n",
       "      <td>0.094832</td>\n",
       "      <td>0.056660</td>\n",
       "      <td>0.008118</td>\n",
       "      <td>-1.018906</td>\n",
       "      <td>...</td>\n",
       "      <td>-0.006386</td>\n",
       "      <td>-0.015274</td>\n",
       "      <td>0.014688</td>\n",
       "      <td>0.038033</td>\n",
       "      <td>0.032032</td>\n",
       "      <td>0.052048</td>\n",
       "      <td>0.022819</td>\n",
       "      <td>0.048195</td>\n",
       "      <td>0.032339</td>\n",
       "      <td>False</td>\n",
       "    </tr>\n",
       "  </tbody>\n",
       "</table>\n",
       "<p>5 rows × 27 columns</p>\n",
       "</div>"
      ],
      "text/plain": [
       "   meanSpeed   sdSpeed  maxAccelX  maxAccelY  maxAccelZ  maxGyroX  maxGyroY  \\\n",
       "0      0.041  0.129653   0.053787  -0.936584   0.295486 -0.007371  0.019259   \n",
       "1      1.364  1.024057   0.120621  -0.875656   0.398834  0.022393  0.006554   \n",
       "2      4.436  1.351158   0.120605  -0.906296   0.404266 -0.010554  0.051599   \n",
       "3      7.060  0.575326   0.115387  -0.893860   0.379074  0.067697 -0.015656   \n",
       "4      9.149  0.864902   0.127914  -0.914444   0.357315  0.031195  0.094832   \n",
       "\n",
       "   maxGyroZ  minAccelX  minAccelY   ...     meanGyroX  meanGyroY  meanGyroZ  \\\n",
       "0  0.007240   0.016998  -0.963852   ...     -0.020783  -0.001779   0.000218   \n",
       "1  0.033050   0.026840  -0.943787   ...     -0.022780  -0.018999  -0.003276   \n",
       "2  0.018975   0.033325  -0.988800   ...     -0.032363  -0.011066  -0.006807   \n",
       "3  0.061929  -0.036392  -0.986603   ...     -0.038749  -0.074418   0.020480   \n",
       "4  0.056660   0.008118  -1.018906   ...     -0.006386  -0.015274   0.014688   \n",
       "\n",
       "   sdAccelX  sdAccelY  sdAccelZ   sdGyroX   sdGyroY   sdGyroZ  pothole  \n",
       "0  0.011710  0.009103  0.040247  0.010819  0.008888  0.003437    False  \n",
       "1  0.031252  0.022495  0.028734  0.020178  0.019851  0.014961    False  \n",
       "2  0.024182  0.022507  0.057296  0.022679  0.024039  0.016592    False  \n",
       "3  0.047576  0.036484  0.068351  0.095503  0.052869  0.028209    False  \n",
       "4  0.038033  0.032032  0.052048  0.022819  0.048195  0.032339    False  \n",
       "\n",
       "[5 rows x 27 columns]"
      ]
     },
     "execution_count": 2,
     "metadata": {},
     "output_type": "execute_result"
    }
   ],
   "source": [
    "numTrips = 5\n",
    "tripDir = 'data/Pothole_Non_Pothole/'\n",
    "allTripsDF = pd.DataFrame()\n",
    "\n",
    "\n",
    "for tripIndex in xrange(1, numTrips+1):\n",
    "    tripFilePath = tripDir + \"trip%s_intervals.csv\" % tripIndex\n",
    "    tripDF = pd.read_csv(tripFilePath)\n",
    "    allTripsDF = allTripsDF.append(tripDF)\n",
    "    \n",
    "# Some data cleaning\n",
    "allTripsDF.drop('Unnamed: 0', axis=1, inplace=True)\n",
    "allTripsDF.dropna(inplace=True)\n",
    "allTripsDF.reset_index(drop=True, inplace=True)\n",
    "\n",
    "print allTripsDF.shape\n",
    "allTripsDF.head()"
   ]
  },
  {
   "cell_type": "markdown",
   "metadata": {},
   "source": [
    "### Setup Features and Labels"
   ]
  },
  {
   "cell_type": "code",
   "execution_count": 3,
   "metadata": {
    "collapsed": true
   },
   "outputs": [],
   "source": [
    "y = allTripsDF['pothole'].astype(int)\n",
    "X = allTripsDF[['meanSpeed', 'sdSpeed', 'maxAccelX', 'maxAccelY', 'maxAccelZ', 'maxGyroX', \n",
    "                'maxGyroY', 'maxGyroZ', 'minAccelX', 'minAccelY', 'minAccelZ', 'minGyroX', \n",
    "                'minGyroY', 'minGyroZ', 'meanAccelX', 'meanAccelY', 'meanAccelZ', \n",
    "                'meanGyroX', 'meanGyroY', 'meanGyroZ', 'sdAccelX', 'sdAccelY', 'sdAccelZ', \n",
    "                'sdGyroX', 'sdGyroY', 'sdGyroZ']]\n",
    "X_train, X_test, y_train, y_test = train_test_split(X, y, test_size=0.33, random_state=0)"
   ]
  },
  {
   "cell_type": "markdown",
   "metadata": {},
   "source": [
    "### Imbalance of Classes\n",
    "\n",
    "There's way more non-pothole intervals than pothole intervals! Need to keep this in mind."
   ]
  },
  {
   "cell_type": "code",
   "execution_count": 4,
   "metadata": {
    "collapsed": false
   },
   "outputs": [
    {
     "data": {
      "text/plain": [
       "0    908\n",
       "1     79\n",
       "Name: pothole, dtype: int64"
      ]
     },
     "execution_count": 4,
     "metadata": {},
     "output_type": "execute_result"
    }
   ],
   "source": [
    "pd.value_counts(y)"
   ]
  },
  {
   "cell_type": "markdown",
   "metadata": {},
   "source": [
    "## Classification: Baseline Model\n",
    "\n",
    "This is the same as predicting the majority class for every instance. Will serve as a baseline for accuracy/precision/recall."
   ]
  },
  {
   "cell_type": "code",
   "execution_count": 6,
   "metadata": {
    "collapsed": false
   },
   "outputs": [
    {
     "name": "stdout",
     "output_type": "stream",
     "text": [
      "Accuracy: 0.898773006135\n",
      "\n",
      "Classification Report:\n",
      "             precision    recall  f1-score   support\n",
      "\n",
      "          0       0.90      1.00      0.95       293\n",
      "          1       0.00      0.00      0.00        33\n",
      "\n",
      "avg / total       0.81      0.90      0.85       326\n",
      "\n",
      "\n",
      "Confusion matrix:\n"
     ]
    },
    {
     "data": {
      "text/plain": [
       "array([[293,   0],\n",
       "       [ 33,   0]])"
      ]
     },
     "execution_count": 6,
     "metadata": {},
     "output_type": "execute_result"
    }
   ],
   "source": [
    "clf = DummyClassifier(strategy='most_frequent')\n",
    "clf.fit(X_train, y_train)\n",
    "y_pred = clf.predict(X_test)\n",
    "accuracy = np.mean(y_pred == y_test)\n",
    "print \"Accuracy:\", accuracy\n",
    "print \"\\nClassification Report:\"\n",
    "print(classification_report(y_test, y_pred))\n",
    "print \"\\nConfusion matrix:\"\n",
    "confusion_matrix(y_test, y_pred)"
   ]
  },
  {
   "cell_type": "markdown",
   "metadata": {},
   "source": [
    "## Classification: SVM"
   ]
  },
  {
   "cell_type": "code",
   "execution_count": 7,
   "metadata": {
    "collapsed": false
   },
   "outputs": [
    {
     "data": {
      "text/plain": [
       "<matplotlib.text.Text at 0x10a55c510>"
      ]
     },
     "execution_count": 7,
     "metadata": {},
     "output_type": "execute_result"
    },
    {
     "data": {
      "image/png": "[encoded data removed]",
      "text/plain": [
       "<matplotlib.figure.Figure at 0x10a545050>"
      ]
     },
     "metadata": {},
     "output_type": "display_data"
    }
   ],
   "source": [
    "Cs = [1, 100, 200, 300, 400, 500, 600, 700, 800]\n",
    "cvAccuracy = []\n",
    "trainMisclassRate = []\n",
    "testMisclassRate = []\n",
    "\n",
    "for c in Cs:\n",
    "    clf = SVC(C=c)\n",
    "    scores = cross_val_score(clf, X,y, cv=5)\n",
    "    cvAccuracy.append(np.mean(scores))\n",
    "    clf.fit(X_train,y_train)\n",
    "    y_fitted = clf.predict(X_train)\n",
    "    y_pred = clf.predict(X_test)\n",
    "    trainMisclassRate.append(np.mean(y_fitted!=y_train))\n",
    "    testMisclassRate.append(np.mean(y_pred!=y_test))\n",
    "\n",
    "plt.figure(figsize=(8,6))\n",
    "plt.plot(Cs, trainMisclassRate, label=\"Training Set\")\n",
    "plt.plot(Cs, testMisclassRate, label=\"Test Set\")\n",
    "plt.legend(loc='upper right', fontsize=14)\n",
    "plt.title('Misclassification Rate vs. SVM C Parameter', fontsize=14)\n",
    "plt.xlabel('C', fontsize=14)\n",
    "plt.ylabel('Misclassification Rate', fontsize=14)"
   ]
  },
  {
   "cell_type": "markdown",
   "metadata": {},
   "source": [
    "### Evaluation: SVM"
   ]
  },
  {
   "cell_type": "code",
   "execution_count": 8,
   "metadata": {
    "collapsed": false
   },
   "outputs": [
    {
     "name": "stdout",
     "output_type": "stream",
     "text": [
      "Final Test Accuracy: 0.929447852761\n",
      "\n",
      "Classification Report:\n",
      "             precision    recall  f1-score   support\n",
      "\n",
      "          0       0.93      0.99      0.96       293\n",
      "          1       0.86      0.36      0.51        33\n",
      "\n",
      "avg / total       0.93      0.93      0.92       326\n",
      "\n",
      "\n",
      "Confusion matrix:\n"
     ]
    },
    {
     "data": {
      "text/plain": [
       "array([[291,   2],\n",
       "       [ 21,  12]])"
      ]
     },
     "execution_count": 8,
     "metadata": {},
     "output_type": "execute_result"
    }
   ],
   "source": [
    "# Final SVM Classifier\n",
    "clf = SVC(C=200)\n",
    "clf.fit(X_train,y_train)\n",
    "y_pred = clf.predict(X_test)\n",
    "accuracy = np.mean(y_pred==y_test)\n",
    "print \"Final Test Accuracy:\", accuracy\n",
    "print \"\\nClassification Report:\"\n",
    "print(classification_report(y_test, y_pred))\n",
    "print \"\\nConfusion matrix:\"\n",
    "confusion_matrix(y_test, y_pred)"
   ]
  },
  {
   "cell_type": "markdown",
   "metadata": {},
   "source": [
    "## Classification: Logistic Regression"
   ]
  },
  {
   "cell_type": "code",
   "execution_count": 9,
   "metadata": {
    "collapsed": false
   },
   "outputs": [
    {
     "data": {
      "text/plain": [
       "<matplotlib.text.Text at 0x11008bbd0>"
      ]
     },
     "execution_count": 9,
     "metadata": {},
     "output_type": "execute_result"
    },
    {
     "data": {
      "image/png": "[encoded data removed]",
      "text/plain": [
       "<matplotlib.figure.Figure at 0x10f7ef510>"
      ]
     },
     "metadata": {},
     "output_type": "display_data"
    }
   ],
   "source": [
    "Cs = [1, 50, 100, 150, 200, 250, 300, 350, 400]\n",
    "cvAccuracy = []\n",
    "trainMisclassRate = []\n",
    "testMisclassRate = []\n",
    "\n",
    "for c in Cs:\n",
    "    clf = LogisticRegression(C=c)\n",
    "    scores = cross_val_score(clf, X,y, cv=5)\n",
    "    cvAccuracy.append(np.mean(scores))\n",
    "    clf.fit(X_train,y_train)\n",
    "    y_fitted = clf.predict(X_train)\n",
    "    y_pred = clf.predict(X_test)\n",
    "    trainMisclassRate.append(np.mean(y_fitted!=y_train))\n",
    "    testMisclassRate.append(np.mean(y_pred!=y_test))\n",
    "\n",
    "plt.figure(figsize=(8,6))\n",
    "plt.plot(Cs, trainMisclassRate, label=\"Training Set\")\n",
    "plt.plot(Cs, testMisclassRate, label=\"Test Set\")\n",
    "plt.legend(loc='upper right', fontsize=14)\n",
    "plt.title('Misclassification Rate vs. C Parameter', fontsize=14)\n",
    "plt.xlabel('C', fontsize=14)\n",
    "plt.ylabel('Misclassification Rate', fontsize=14)"
   ]
  },
  {
   "cell_type": "markdown",
   "metadata": {},
   "source": [
    "### Evaluation: Logistic Regression"
   ]
  },
  {
   "cell_type": "code",
   "execution_count": 10,
   "metadata": {
    "collapsed": false
   },
   "outputs": [
    {
     "name": "stdout",
     "output_type": "stream",
     "text": [
      "Final Test Accuracy: 0.920245398773\n",
      "\n",
      "Classification Report:\n",
      "             precision    recall  f1-score   support\n",
      "\n",
      "          0       0.93      0.98      0.96       293\n",
      "          1       0.68      0.39      0.50        33\n",
      "\n",
      "avg / total       0.91      0.92      0.91       326\n",
      "\n",
      "\n",
      "Confusion matrix:\n"
     ]
    },
    {
     "data": {
      "text/plain": [
       "array([[287,   6],\n",
       "       [ 20,  13]])"
      ]
     },
     "execution_count": 10,
     "metadata": {},
     "output_type": "execute_result"
    }
   ],
   "source": [
    "# Final Logistic Regression Classifier\n",
    "clf = LogisticRegression(C=100)\n",
    "clf.fit(X_train,y_train)\n",
    "y_pred = clf.predict(X_test)\n",
    "accuracy = np.mean(y_pred==y_test)\n",
    "print \"Final Test Accuracy:\", accuracy\n",
    "print \"\\nClassification Report:\"\n",
    "print(classification_report(y_test, y_pred))\n",
    "print \"\\nConfusion matrix:\"\n",
    "confusion_matrix(y_test, y_pred)"
   ]
  },
  {
   "cell_type": "markdown",
   "metadata": {},
   "source": [
    "## Classification: Random Forest"
   ]
  },
  {
   "cell_type": "code",
   "execution_count": 11,
   "metadata": {
    "collapsed": false
   },
   "outputs": [
    {
     "data": {
      "text/plain": [
       "<matplotlib.text.Text at 0x113a56f10>"
      ]
     },
     "execution_count": 11,
     "metadata": {},
     "output_type": "execute_result"
    },
    {
     "data": {
      "image/png": "[encoded data removed]",
      "text/plain": [
       "<matplotlib.figure.Figure at 0x113767e50>"
      ]
     },
     "metadata": {},
     "output_type": "display_data"
    }
   ],
   "source": [
    "numTrees = [10, 20, 30, 40, 50, 60, 70, 80, 90, 100]\n",
    "cvAccuracy = []\n",
    "trainMisclassRate = []\n",
    "testMisclassRate = []\n",
    "\n",
    "for n in numTrees:\n",
    "    clf = RandomForestClassifier(n_estimators=n, random_state=0)\n",
    "    scores = cross_val_score(clf, X,y, cv=5)\n",
    "    cvAccuracy.append(np.mean(scores))\n",
    "    clf.fit(X_train,y_train)\n",
    "    y_fitted = clf.predict(X_train)\n",
    "    y_pred = clf.predict(X_test)\n",
    "    trainMisclassRate.append(np.mean(y_fitted!=y_train))\n",
    "    testMisclassRate.append(np.mean(y_pred!=y_test))\n",
    "\n",
    "plt.figure(figsize=(8,6))\n",
    "plt.plot(numTrees, trainMisclassRate, label=\"Training Set\")\n",
    "plt.plot(numTrees, testMisclassRate, label=\"Test Set\")\n",
    "plt.legend(loc='upper right', fontsize=14)\n",
    "plt.title('Misclassification Rate vs. Number of Trees', fontsize=14)\n",
    "plt.xlabel('Number of trees', fontsize=14)\n",
    "plt.ylabel('Misclassification Rate', fontsize=14)"
   ]
  },
  {
   "cell_type": "markdown",
   "metadata": {},
   "source": [
    "### Evaluation: Random Forest"
   ]
  },
  {
   "cell_type": "code",
   "execution_count": 12,
   "metadata": {
    "collapsed": false
   },
   "outputs": [
    {
     "name": "stdout",
     "output_type": "stream",
     "text": [
      "Final Test Accuracy: 0.923312883436\n",
      "\n",
      "Classification Report:\n",
      "             precision    recall  f1-score   support\n",
      "\n",
      "          0       0.93      0.99      0.96       293\n",
      "          1       0.75      0.36      0.49        33\n",
      "\n",
      "avg / total       0.91      0.92      0.91       326\n",
      "\n",
      "\n",
      "Confusion matrix:\n"
     ]
    },
    {
     "data": {
      "text/plain": [
       "array([[289,   4],\n",
       "       [ 21,  12]])"
      ]
     },
     "execution_count": 12,
     "metadata": {},
     "output_type": "execute_result"
    }
   ],
   "source": [
    "# Final Random Forest Classifier\n",
    "clf = RandomForestClassifier(n_estimators=50, random_state=0)\n",
    "clf.fit(X_train,y_train)\n",
    "y_pred = clf.predict(X_test)\n",
    "accuracy = np.mean(y_pred==y_test)\n",
    "print \"Final Test Accuracy:\", accuracy\n",
    "print \"\\nClassification Report:\"\n",
    "print(classification_report(y_test, y_pred))\n",
    "print \"\\nConfusion matrix:\"\n",
    "confusion_matrix(y_test, y_pred)"
   ]
  },
  {
   "cell_type": "markdown",
   "metadata": {},
   "source": [
    "## Classification: Gradient Boosting"
   ]
  },
  {
   "cell_type": "code",
   "execution_count": 13,
   "metadata": {
    "collapsed": false
   },
   "outputs": [
    {
     "data": {
      "text/plain": [
       "<matplotlib.text.Text at 0x113a9f490>"
      ]
     },
     "execution_count": 13,
     "metadata": {},
     "output_type": "execute_result"
    },
    {
     "data": {
      "image/png": "[encoded data removed]",
      "text/plain": [
       "<matplotlib.figure.Figure at 0x10a530210>"
      ]
     },
     "metadata": {},
     "output_type": "display_data"
    }
   ],
   "source": [
    "depths = [1, 2, 3, 4, 5]\n",
    "cvAccuracy = []\n",
    "trainMisclassRate = []\n",
    "testMisclassRate = []\n",
    "\n",
    "for d in depths:\n",
    "    clf = GradientBoostingClassifier(max_depth=d, random_state=0)\n",
    "    scores = cross_val_score(clf, X,y, cv=5)\n",
    "    cvAccuracy.append(np.mean(scores))\n",
    "    clf.fit(X_train,y_train)\n",
    "    y_fitted = clf.predict(X_train)\n",
    "    y_pred = clf.predict(X_test)\n",
    "    trainMisclassRate.append(np.mean(y_fitted!=y_train))\n",
    "    testMisclassRate.append(np.mean(y_pred!=y_test))\n",
    "\n",
    "plt.figure(figsize=(8,6))\n",
    "plt.plot(depths, trainMisclassRate, label=\"Training Set\")\n",
    "plt.plot(depths, testMisclassRate, label=\"Test Set\")\n",
    "plt.legend(loc='upper right', fontsize=14)\n",
    "plt.title('Misclassification Rate vs. Max Depth', fontsize=14)\n",
    "plt.xlabel('Max depth', fontsize=14)\n",
    "plt.ylabel('Misclassification Rate', fontsize=14)"
   ]
  },
  {
   "cell_type": "markdown",
   "metadata": {},
   "source": [
    "### Evaluation: Gradient Boosting"
   ]
  },
  {
   "cell_type": "code",
   "execution_count": 14,
   "metadata": {
    "collapsed": false
   },
   "outputs": [
    {
     "name": "stdout",
     "output_type": "stream",
     "text": [
      "Final Test Accuracy: 0.920245398773\n",
      "\n",
      "Classification Report:\n",
      "             precision    recall  f1-score   support\n",
      "\n",
      "          0       0.94      0.97      0.96       293\n",
      "          1       0.65      0.45      0.54        33\n",
      "\n",
      "avg / total       0.91      0.92      0.91       326\n",
      "\n",
      "\n",
      "Confusion matrix:\n"
     ]
    },
    {
     "data": {
      "text/plain": [
       "array([[285,   8],\n",
       "       [ 18,  15]])"
      ]
     },
     "execution_count": 14,
     "metadata": {},
     "output_type": "execute_result"
    }
   ],
   "source": [
    "# Final Gradient Boosting Classifier\n",
    "clf = GradientBoostingClassifier(max_depth=2, random_state=0)\n",
    "clf.fit(X_train,y_train)\n",
    "y_pred = clf.predict(X_test)\n",
    "accuracy = np.mean(y_pred==y_test)\n",
    "print \"Final Test Accuracy:\", accuracy\n",
    "print \"\\nClassification Report:\"\n",
    "print(classification_report(y_test, y_pred))\n",
    "print \"\\nConfusion matrix:\"\n",
    "confusion_matrix(y_test, y_pred)"
   ]
  },
  {
   "cell_type": "markdown",
   "metadata": {},
   "source": [
    "## Classification: K-nearest Neighbors"
   ]
  },
  {
   "cell_type": "code",
   "execution_count": 15,
   "metadata": {
    "collapsed": false
   },
   "outputs": [
    {
     "data": {
      "text/plain": [
       "<matplotlib.text.Text at 0x113aeb150>"
      ]
     },
     "execution_count": 15,
     "metadata": {},
     "output_type": "execute_result"
    },
    {
     "data": {
      "image/png": "[encoded data removed]",
      "text/plain": [
       "<matplotlib.figure.Figure at 0x11000bcd0>"
      ]
     },
     "metadata": {},
     "output_type": "display_data"
    }
   ],
   "source": [
    "Ks = [1,2,3,4,5,10,20]\n",
    "cvAccuracy = []\n",
    "trainMisclassRate = []\n",
    "testMisclassRate = []\n",
    "\n",
    "for k in Ks:\n",
    "    clf = KNeighborsClassifier(n_neighbors=k)\n",
    "    scores = cross_val_score(clf, X,y, cv=5)\n",
    "    cvAccuracy.append(np.mean(scores))\n",
    "    clf.fit(X_train,y_train)\n",
    "    y_fitted = clf.predict(X_train)\n",
    "    y_pred = clf.predict(X_test)\n",
    "    trainMisclassRate.append(np.mean(y_fitted!=y_train))\n",
    "    testMisclassRate.append(np.mean(y_pred!=y_test))\n",
    "\n",
    "plt.figure(figsize=(8,6))\n",
    "plt.plot(Ks, trainMisclassRate, label=\"Training Set\")\n",
    "plt.plot(Ks, testMisclassRate, label=\"Test Set\")\n",
    "plt.legend(loc='upper right', fontsize=14)\n",
    "plt.title('Misclassification Rate vs. k parameter', fontsize=14)\n",
    "plt.xlabel('k', fontsize=14)\n",
    "plt.ylabel('Misclassification Rate', fontsize=14)"
   ]
  },
  {
   "cell_type": "markdown",
   "metadata": {},
   "source": [
    "### Evaluation: KNN"
   ]
  },
  {
   "cell_type": "code",
   "execution_count": 16,
   "metadata": {
    "collapsed": false
   },
   "outputs": [
    {
     "name": "stdout",
     "output_type": "stream",
     "text": [
      "Final Test Accuracy: 0.911042944785\n",
      "\n",
      "Classification Report:\n",
      "             precision    recall  f1-score   support\n",
      "\n",
      "          0       0.91      1.00      0.95       293\n",
      "          1       1.00      0.12      0.22        33\n",
      "\n",
      "avg / total       0.92      0.91      0.88       326\n",
      "\n",
      "\n",
      "Confusion matrix:\n"
     ]
    },
    {
     "data": {
      "text/plain": [
       "array([[293,   0],\n",
       "       [ 29,   4]])"
      ]
     },
     "execution_count": 16,
     "metadata": {},
     "output_type": "execute_result"
    }
   ],
   "source": [
    "clf = KNeighborsClassifier(n_neighbors=4)\n",
    "clf.fit(X_train, y_train)\n",
    "y_pred = clf.predict(X_test)\n",
    "accuracy = np.mean(y_pred==y_test)\n",
    "print \"Final Test Accuracy:\", accuracy\n",
    "print \"\\nClassification Report:\"\n",
    "print(classification_report(y_test, y_pred))\n",
    "print \"\\nConfusion matrix:\"\n",
    "confusion_matrix(y_test, y_pred)"
   ]
  },
  {
   "cell_type": "code",
   "execution_count": null,
   "metadata": {
    "collapsed": true
   },
   "outputs": [],
   "source": []
  }
 ],
 "metadata": {
  "anaconda-cloud": {},
  "kernelspec": {
   "display_name": "Python [Root]",
   "language": "python",
   "name": "Python [Root]"
  },
  "language_info": {
   "codemirror_mode": {
    "name": "ipython",
    "version": 2
   },
   "file_extension": ".py",
   "mimetype": "text/x-python",
   "name": "python",
   "nbconvert_exporter": "python",
   "pygments_lexer": "ipython2",
   "version": "2.7.12"
  }
 },
 "nbformat": 4,
 "nbformat_minor": 2
}
